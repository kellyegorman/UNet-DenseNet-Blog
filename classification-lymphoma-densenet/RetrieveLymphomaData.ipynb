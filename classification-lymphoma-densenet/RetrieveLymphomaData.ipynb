{
  "cells": [
    {
      "cell_type": "markdown",
      "metadata": {
        "id": "view-in-github",
        "colab_type": "text"
      },
      "source": [
        "<a href=\"https://colab.research.google.com/github/kellyegorman/UNet-DenseNet-Blog/blob/main/classification-lymphoma-densenet/RetrieveLymphomaData.ipynb\" target=\"_parent\"><img src=\"https://colab.research.google.com/assets/colab-badge.svg\" alt=\"Open In Colab\"/></a>"
      ]
    },
    {
      "cell_type": "markdown",
      "metadata": {
        "id": "WxzQdRzjo9ZG"
      },
      "source": [
        "Retrieving the data files from the server using wget command"
      ]
    },
    {
      "cell_type": "code",
      "execution_count": null,
      "metadata": {
        "id": "r0VPBYHXo4_g",
        "colab": {
          "base_uri": "https://localhost:8080/"
        },
        "outputId": "5f5e93b2-09dd-4d94-e69b-ec77b9e763ef"
      },
      "outputs": [
        {
          "output_type": "stream",
          "name": "stdout",
          "text": [
            "--2025-01-20 18:09:04--  http://andrewjanowczyk.com/wp-static/lymphoma.tar.gz\n",
            "Resolving andrewjanowczyk.com (andrewjanowczyk.com)... 170.140.138.87\n",
            "Connecting to andrewjanowczyk.com (andrewjanowczyk.com)|170.140.138.87|:80... ^C\n"
          ]
        }
      ],
      "source": [
        "!wget http://andrewjanowczyk.com/wp-static/lymphoma.tar.gz"
      ]
    },
    {
      "cell_type": "code",
      "execution_count": null,
      "metadata": {
        "id": "3z4naFJ_r3WY",
        "colab": {
          "base_uri": "https://localhost:8080/"
        },
        "outputId": "32e29036-7608-4167-a447-57b90f770e11"
      },
      "outputs": [
        {
          "output_type": "stream",
          "name": "stdout",
          "text": [
            "Mounted at /gdrive\n"
          ]
        }
      ],
      "source": [
        "from google.colab import drive\n",
        "\n",
        "from google.colab import drive\n",
        "drive.mount('/gdrive')\n",
        "\n"
      ]
    },
    {
      "cell_type": "code",
      "source": [
        "%cd /gdrive/MyDrive/PytorchDigitalPathology/classification_lymphoma_densenet"
      ],
      "metadata": {
        "id": "vZZw3UiJ5T64",
        "colab": {
          "base_uri": "https://localhost:8080/"
        },
        "outputId": "8d05d51c-824a-4328-8eb4-95fd99eae5b7"
      },
      "execution_count": null,
      "outputs": [
        {
          "output_type": "stream",
          "name": "stdout",
          "text": [
            "/gdrive/MyDrive/PytorchDigitalPathology/classification_lymphoma_densenet\n"
          ]
        }
      ]
    },
    {
      "cell_type": "code",
      "execution_count": null,
      "metadata": {
        "id": "SidL5IYAsSrG"
      },
      "outputs": [],
      "source": [
        "#Do not execute if this folder exists\n",
        "%mkdir data"
      ]
    },
    {
      "cell_type": "code",
      "execution_count": null,
      "metadata": {
        "id": "DdWDDExgsMWM",
        "colab": {
          "base_uri": "https://localhost:8080/"
        },
        "outputId": "190ecb08-b51b-42e2-ac8d-7b791d17463d"
      },
      "outputs": [
        {
          "output_type": "stream",
          "name": "stdout",
          "text": [
            "/gdrive/MyDrive/PytorchDigitalPathology/classification_lymphoma_densenet/data\n"
          ]
        }
      ],
      "source": [
        "%cd data"
      ]
    },
    {
      "cell_type": "code",
      "execution_count": null,
      "metadata": {
        "id": "BxoeLFmwshe8",
        "colab": {
          "base_uri": "https://localhost:8080/"
        },
        "outputId": "c2834f45-f825-4065-f8ef-d832d7c372ad"
      },
      "outputs": [
        {
          "output_type": "stream",
          "name": "stdout",
          "text": [
            "tar (child): /gdrive/MyDrive/PytorchDigitalPathology/classification_lymphoma_densenet/lymphoma.tar.gz: Cannot open: No such file or directory\n",
            "tar (child): Error is not recoverable: exiting now\n",
            "tar: Child returned status 2\n",
            "tar: Error is not recoverable: exiting now\n"
          ]
        }
      ],
      "source": [
        "!tar --gunzip --extract --verbose --file=/gdrive/MyDrive/PytorchDigitalPathology/classification_lymphoma_densenet/lymphoma.tar.gz"
      ]
    },
    {
      "cell_type": "code",
      "execution_count": null,
      "metadata": {
        "id": "BaJ0LzixNIj8",
        "colab": {
          "base_uri": "https://localhost:8080/"
        },
        "outputId": "6f8df5d8-fc73-4376-faf3-d41e6fa4f5b5"
      },
      "outputs": [
        {
          "output_type": "stream",
          "name": "stdout",
          "text": [
            "\u001b[0m\u001b[01;34mdata\u001b[0m/            make_output_densenet_cmd.ipynb  RetrieveLymphomaData.ipynb\n",
            "lymphoma.tar.gz  PS_scikitlearn.py               train_densenet_albumentations.ipynb\n",
            "make_hdf5.ipynb  \u001b[01;34m__pycache__\u001b[0m/                    visualize_validation_results.ipynb\n"
          ]
        }
      ],
      "source": [
        "ls"
      ]
    },
    {
      "cell_type": "code",
      "source": [
        "from google.colab import drive\n",
        "drive.mount('/content/drive')"
      ],
      "metadata": {
        "id": "dIBRIeXL5tam",
        "colab": {
          "base_uri": "https://localhost:8080/"
        },
        "outputId": "1229a0a0-1e1b-461a-f32c-d4da8b635bba"
      },
      "execution_count": null,
      "outputs": [
        {
          "output_type": "stream",
          "name": "stdout",
          "text": [
            "Mounted at /content/drive\n"
          ]
        }
      ]
    },
    {
      "cell_type": "code",
      "source": [
        "%cd data"
      ],
      "metadata": {
        "colab": {
          "base_uri": "https://localhost:8080/"
        },
        "id": "Pck7ilAF6_it",
        "outputId": "086c3ce4-ce48-44f9-8656-26e3dc9349a6"
      },
      "execution_count": null,
      "outputs": [
        {
          "output_type": "stream",
          "name": "stdout",
          "text": [
            "/gdrive/MyDrive/PytorchDigitalPathology/classification_lymphoma_densenet/data\n"
          ]
        }
      ]
    },
    {
      "cell_type": "code",
      "source": [
        "!tar --gunzip --extract --verbose --file=/content/drive/MyDrive/PytorchDigitalPathology/classification_lymphoma_densenet/lymphoma.tar.gz\n"
      ],
      "metadata": {
        "colab": {
          "base_uri": "https://localhost:8080/"
        },
        "id": "8QNE8RyQ6-4G",
        "outputId": "648643f8-a645-4e43-faf4-a2cfac1fb511"
      },
      "execution_count": null,
      "outputs": [
        {
          "output_type": "stream",
          "name": "stdout",
          "text": [
            "CLL/\n",
            "tar: CLL: Cannot mkdir: Transport endpoint is not connected\n",
            "CLL/sj-03-2810_001.tif\n",
            "tar: CLL/sj-03-2810_001.tif: Cannot open: Transport endpoint is not connected\n",
            "CLL/sj-03-2810_002.tif\n",
            "tar: CLL/sj-03-2810_002.tif: Cannot open: Transport endpoint is not connected\n",
            "CLL/sj-03-2810_003.tif\n",
            "tar: CLL/sj-03-2810_003.tif: Cannot open: Transport endpoint is not connected\n",
            "CLL/sj-03-2810_004.tif\n",
            "tar: CLL/sj-03-2810_004.tif: Cannot open: Transport endpoint is not connected\n",
            "CLL/sj-03-2810_005.tif\n",
            "tar: CLL/sj-03-2810_005.tif: Cannot open: Transport endpoint is not connected\n",
            "CLL/sj-03-2810_006.tif\n",
            "tar: CLL/sj-03-2810_006.tif: Cannot open: Transport endpoint is not connected\n",
            "CLL/sj-03-2810_007.tif\n",
            "tar: CLL/sj-03-2810_007.tif: Cannot open: Transport endpoint is not connected\n",
            "CLL/sj-03-2810_008.tif\n",
            "tar: CLL/sj-03-2810_008.tif: Cannot open: Transport endpoint is not connected\n",
            "CLL/sj-03-2810_009.tif\n",
            "tar: CLL/sj-03-2810_009.tif: Cannot open: Transport endpoint is not connected\n",
            "CLL/sj-03-2810_010.tif\n",
            "tar: CLL/sj-03-2810_010.tif: Cannot open: Transport endpoint is not connected\n",
            "CLL/sj-03-2810_011.tif\n",
            "tar: CLL/sj-03-2810_011.tif: Cannot open: Transport endpoint is not connected\n",
            "CLL/sj-03-476_001.tif\n",
            "tar: CLL/sj-03-476_001.tif: Cannot open: Transport endpoint is not connected\n",
            "CLL/sj-03-476_002.tif\n",
            "tar: CLL/sj-03-476_002.tif: Cannot open: Transport endpoint is not connected\n",
            "CLL/sj-03-476_003.tif\n",
            "tar: CLL/sj-03-476_003.tif: Cannot open: Transport endpoint is not connected\n",
            "CLL/sj-03-476_004.tif\n",
            "tar: CLL/sj-03-476_004.tif: Cannot open: Transport endpoint is not connected\n",
            "CLL/sj-03-476_005.tif\n",
            "tar: CLL/sj-03-476_005.tif: Cannot open: Transport endpoint is not connected\n",
            "CLL/sj-03-476_006.tif\n",
            "tar: CLL/sj-03-476_006.tif: Cannot open: Transport endpoint is not connected\n",
            "CLL/sj-03-476_007.tif\n",
            "tar: CLL/sj-03-476_007.tif: Cannot open: Transport endpoint is not connected\n",
            "CLL/sj-03-476_008.tif\n",
            "tar: CLL/sj-03-476_008.tif: Cannot open: Transport endpoint is not connected\n",
            "CLL/sj-03-476_009.tif\n",
            "tar: CLL/sj-03-476_009.tif: Cannot open: Transport endpoint is not connected\n",
            "CLL/sj-03-476_010.tif\n",
            "tar: CLL/sj-03-476_010.tif: Cannot open: Transport endpoint is not connected\n",
            "CLL/sj-03-4957_001.tif\n",
            "tar: CLL/sj-03-4957_001.tif: Cannot open: Transport endpoint is not connected\n",
            "CLL/sj-03-4957_002.tif\n",
            "tar: CLL/sj-03-4957_002.tif: Cannot open: Transport endpoint is not connected\n",
            "CLL/sj-03-4957_003.tif\n",
            "tar: CLL/sj-03-4957_003.tif: Cannot open: Transport endpoint is not connected\n",
            "CLL/sj-03-4957_004.tif\n",
            "tar: CLL/sj-03-4957_004.tif: Cannot open: Transport endpoint is not connected\n",
            "CLL/sj-03-4957_005.tif\n",
            "tar: CLL/sj-03-4957_005.tif: Cannot open: Transport endpoint is not connected\n",
            "CLL/sj-03-4957_006.tif\n",
            "tar: CLL/sj-03-4957_006.tif: Cannot open: Transport endpoint is not connected\n",
            "CLL/sj-03-4957_007.tif\n",
            "tar: CLL/sj-03-4957_007.tif: Cannot open: Transport endpoint is not connected\n",
            "CLL/sj-03-4957_008.tif\n",
            "tar: CLL/sj-03-4957_008.tif: Cannot open: Transport endpoint is not connected\n",
            "CLL/sj-03-4957_009.tif\n",
            "tar: CLL/sj-03-4957_009.tif: Cannot open: Transport endpoint is not connected\n",
            "CLL/sj-03-4957_010.tif\n",
            "tar: CLL/sj-03-4957_010.tif: Cannot open: Transport endpoint is not connected\n",
            "CLL/sj-03-5521_001.tif\n",
            "tar: CLL/sj-03-5521_001.tif: Cannot open: Transport endpoint is not connected\n",
            "CLL/sj-03-5521_002.tif\n",
            "tar: CLL/sj-03-5521_002.tif: Cannot open: Transport endpoint is not connected\n",
            "CLL/sj-03-5521_003.tif\n",
            "tar: CLL/sj-03-5521_003.tif: Cannot open: Transport endpoint is not connected\n",
            "CLL/sj-03-5521_004.tif\n",
            "tar: CLL/sj-03-5521_004.tif: Cannot open: Transport endpoint is not connected\n",
            "CLL/sj-03-5521_005.tif\n",
            "tar: CLL/sj-03-5521_005.tif: Cannot open: Transport endpoint is not connected\n",
            "CLL/sj-03-5521_006.tif\n",
            "tar: CLL/sj-03-5521_006.tif: Cannot open: Transport endpoint is not connected\n",
            "CLL/sj-03-5521_007.tif\n",
            "tar: CLL/sj-03-5521_007.tif: Cannot open: Transport endpoint is not connected\n",
            "CLL/sj-03-5521_008.tif\n",
            "tar: CLL/sj-03-5521_008.tif: Cannot open: Transport endpoint is not connected\n",
            "CLL/sj-03-5521_009.tif\n",
            "tar: CLL/sj-03-5521_009.tif: Cannot open: Transport endpoint is not connected\n",
            "CLL/sj-03-5521_010.tif\n",
            "tar: CLL/sj-03-5521_010.tif: Cannot open: Transport endpoint is not connected\n",
            "CLL/sj-03-852-R2_001.tif\n",
            "tar: CLL/sj-03-852-R2_001.tif: Cannot open: Transport endpoint is not connected\n",
            "CLL/sj-03-852-R2_002.tif\n",
            "tar: CLL/sj-03-852-R2_002.tif: Cannot open: Transport endpoint is not connected\n",
            "CLL/sj-03-852-R2_003.tif\n",
            "tar: CLL/sj-03-852-R2_003.tif: Cannot open: Transport endpoint is not connected\n",
            "CLL/sj-03-852-R2_004.tif\n",
            "tar: CLL/sj-03-852-R2_004.tif: Cannot open: Transport endpoint is not connected\n",
            "CLL/sj-03-852-R2_005.tif\n",
            "tar: CLL/sj-03-852-R2_005.tif: Cannot open: Transport endpoint is not connected\n",
            "CLL/sj-03-852-R2_006.tif\n",
            "tar: CLL/sj-03-852-R2_006.tif: Cannot open: Transport endpoint is not connected\n",
            "CLL/sj-03-852-R2_007.tif\n",
            "tar: CLL/sj-03-852-R2_007.tif: Cannot open: Transport endpoint is not connected\n",
            "CLL/sj-03-852-R2_008.tif\n",
            "tar: CLL/sj-03-852-R2_008.tif: Cannot open: Transport endpoint is not connected\n",
            "CLL/sj-03-852-R2_009.tif\n",
            "tar: CLL/sj-03-852-R2_009.tif: Cannot open: Transport endpoint is not connected\n",
            "CLL/sj-03-852-R2_010.tif\n",
            "tar: CLL/sj-03-852-R2_010.tif: Cannot open: Transport endpoint is not connected\n",
            "CLL/sj-03-852-R2_011.tif\n",
            "tar: CLL/sj-03-852-R2_011.tif: Cannot open: Transport endpoint is not connected\n",
            "CLL/sj-03-852-R2_012.tif\n",
            "tar: CLL/sj-03-852-R2_012.tif: Cannot open: Transport endpoint is not connected\n",
            "CLL/sj-03-852-R2_013.tif\n",
            "tar: CLL/sj-03-852-R2_013.tif: Cannot open: Transport endpoint is not connected\n",
            "CLL/sj-03-852-R2_014.tif\n",
            "tar: CLL/sj-03-852-R2_014.tif: Cannot open: Transport endpoint is not connected\n",
            "CLL/sj-05-1396-R3_001.tif\n",
            "tar: CLL/sj-05-1396-R3_001.tif: Cannot open: Transport endpoint is not connected\n",
            "CLL/sj-05-1396-R3_002.tif\n",
            "tar: CLL/sj-05-1396-R3_002.tif: Cannot open: Transport endpoint is not connected\n",
            "CLL/sj-05-1396-R3_003.tif\n",
            "tar: CLL/sj-05-1396-R3_003.tif: Cannot open: Transport endpoint is not connected\n",
            "CLL/sj-05-1396-R3_004.tif\n",
            "tar: CLL/sj-05-1396-R3_004.tif: Cannot open: Transport endpoint is not connected\n",
            "CLL/sj-05-1396-R3_005.tif\n",
            "tar: CLL/sj-05-1396-R3_005.tif: Cannot open: Transport endpoint is not connected\n",
            "CLL/sj-05-1396-R3_006.tif\n",
            "tar: CLL/sj-05-1396-R3_006.tif: Cannot open: Transport endpoint is not connected\n",
            "CLL/sj-05-1396-R3_007.tif\n",
            "tar: CLL/sj-05-1396-R3_007.tif: Cannot open: Transport endpoint is not connected\n",
            "CLL/sj-05-1396-R3_008.tif\n",
            "tar: CLL/sj-05-1396-R3_008.tif: Cannot open: Transport endpoint is not connected\n",
            "CLL/sj-05-1396-R3_009.tif\n",
            "tar: CLL/sj-05-1396-R3_009.tif: Cannot open: Transport endpoint is not connected\n",
            "CLL/sj-05-1396-R3_010.tif\n",
            "tar: CLL/sj-05-1396-R3_010.tif: Cannot open: Transport endpoint is not connected\n",
            "CLL/sj-05-1396-R3_011.tif\n",
            "tar: CLL/sj-05-1396-R3_011.tif: Cannot open: Transport endpoint is not connected\n",
            "CLL/sj-05-3165_001.tif\n",
            "tar: CLL/sj-05-3165_001.tif: Cannot open: Transport endpoint is not connected\n",
            "CLL/sj-05-3165_002.tif\n",
            "tar: CLL/sj-05-3165_002.tif: Cannot open: Transport endpoint is not connected\n",
            "CLL/sj-05-3165_003.tif\n",
            "tar: CLL/sj-05-3165_003.tif: Cannot open: Transport endpoint is not connected\n",
            "CLL/sj-05-3165_004.tif\n",
            "tar: CLL/sj-05-3165_004.tif: Cannot open: Transport endpoint is not connected\n",
            "CLL/sj-05-3165_005.tif\n",
            "tar: CLL/sj-05-3165_005.tif: Cannot open: Transport endpoint is not connected\n",
            "CLL/sj-05-3165_006.tif\n",
            "tar: CLL/sj-05-3165_006.tif: Cannot open: Transport endpoint is not connected\n",
            "CLL/sj-05-3165_007.tif\n",
            "tar: CLL/sj-05-3165_007.tif: Cannot open: Transport endpoint is not connected\n",
            "CLL/sj-05-3165_008.tif\n",
            "tar: CLL/sj-05-3165_008.tif: Cannot open: Transport endpoint is not connected\n",
            "CLL/sj-05-3165_009.tif\n",
            "tar: CLL/sj-05-3165_009.tif: Cannot open: Transport endpoint is not connected\n",
            "CLL/sj-05-3165_010.tif\n",
            "tar: CLL/sj-05-3165_010.tif: Cannot open: Transport endpoint is not connected\n",
            "CLL/sj-05-3165_011.tif\n",
            "tar: CLL/sj-05-3165_011.tif: Cannot open: Transport endpoint is not connected\n",
            "CLL/sj-05-3165_012.tif\n",
            "tar: CLL/sj-05-3165_012.tif: Cannot open: Transport endpoint is not connected\n",
            "CLL/sj-05-3344_001.tif\n",
            "tar: CLL/sj-05-3344_001.tif: Cannot open: Transport endpoint is not connected\n",
            "CLL/sj-05-3344_002.tif\n",
            "tar: CLL/sj-05-3344_002.tif: Cannot open: Transport endpoint is not connected\n",
            "CLL/sj-05-3344_003.tif\n",
            "tar: CLL/sj-05-3344_003.tif: Cannot open: Transport endpoint is not connected\n",
            "CLL/sj-05-3344_004.tif\n",
            "tar: CLL/sj-05-3344_004.tif: Cannot open: Transport endpoint is not connected\n",
            "CLL/sj-05-3344_005.tif\n",
            "tar: CLL/sj-05-3344_005.tif: Cannot open: Transport endpoint is not connected\n",
            "CLL/sj-05-3344_006.tif\n",
            "tar: CLL/sj-05-3344_006.tif: Cannot open: Transport endpoint is not connected\n",
            "CLL/sj-05-3344_007.tif\n",
            "tar: CLL/sj-05-3344_007.tif: Cannot open: Transport endpoint is not connected\n",
            "CLL/sj-05-3344_008.tif\n",
            "tar: CLL/sj-05-3344_008.tif: Cannot open: Transport endpoint is not connected\n",
            "CLL/sj-05-3344_009.tif\n",
            "tar: CLL/sj-05-3344_009.tif: Cannot open: Transport endpoint is not connected\n",
            "CLL/sj-05-3344_010.tif\n",
            "tar: CLL/sj-05-3344_010.tif: Cannot open: Transport endpoint is not connected\n",
            "CLL/sj-05-3344_011.tif\n",
            "tar: CLL/sj-05-3344_011.tif: Cannot open: Transport endpoint is not connected\n",
            "CLL/sj-05-3874-R2_001.tif\n",
            "tar: CLL/sj-05-3874-R2_001.tif: Cannot open: Transport endpoint is not connected\n",
            "CLL/sj-05-3874-R2_002.tif\n",
            "tar: CLL/sj-05-3874-R2_002.tif: Cannot open: Transport endpoint is not connected\n",
            "CLL/sj-05-3874-R2_003.tif\n",
            "tar: CLL/sj-05-3874-R2_003.tif: Cannot open: Transport endpoint is not connected\n",
            "CLL/sj-05-3874-R2_004.tif\n",
            "tar: CLL/sj-05-3874-R2_004.tif: Cannot open: Transport endpoint is not connected\n",
            "CLL/sj-05-3874-R2_005.tif\n",
            "tar: CLL/sj-05-3874-R2_005.tif: Cannot open: Transport endpoint is not connected\n",
            "CLL/sj-05-3874-R2_006.tif\n",
            "tar: CLL/sj-05-3874-R2_006.tif: Cannot open: Transport endpoint is not connected\n",
            "CLL/sj-05-3874-R2_007.tif\n",
            "tar: CLL/sj-05-3874-R2_007.tif: Cannot open: Transport endpoint is not connected\n",
            "CLL/sj-05-3874-R2_008.tif\n",
            "tar: CLL/sj-05-3874-R2_008.tif: Cannot open: Transport endpoint is not connected\n",
            "CLL/sj-05-3874-R2_009.tif\n",
            "tar: CLL/sj-05-3874-R2_009.tif: Cannot open: Transport endpoint is not connected\n",
            "CLL/sj-05-3874-R2_010.tif\n",
            "tar: CLL/sj-05-3874-R2_010.tif: Cannot open: Transport endpoint is not connected\n",
            "CLL/sj-05-5269-R10_002.tif\n",
            "tar: CLL/sj-05-5269-R10_002.tif: Cannot open: Transport endpoint is not connected\n",
            "CLL/sj-05-5269-R10_003.tif\n",
            "tar: CLL/sj-05-5269-R10_003.tif: Cannot open: Transport endpoint is not connected\n",
            "CLL/sj-05-5269-R10_004.tif\n",
            "tar: CLL/sj-05-5269-R10_004.tif: Cannot open: Transport endpoint is not connected\n",
            "CLL/sj-05-5269-R10_005.tif\n",
            "tar: CLL/sj-05-5269-R10_005.tif: Cannot open: Transport endpoint is not connected\n",
            "CLL/sj-05-5269-R10_006.tif\n",
            "tar: CLL/sj-05-5269-R10_006.tif: Cannot open: Transport endpoint is not connected\n",
            "CLL/sj-05-5269-R10_007.tif\n",
            "tar: CLL/sj-05-5269-R10_007.tif: Cannot open: Transport endpoint is not connected\n",
            "CLL/sj-05-5269-R10_008.tif\n",
            "tar: CLL/sj-05-5269-R10_008.tif: Cannot open: Transport endpoint is not connected\n",
            "CLL/sj-05-5269-R10_009.tif\n",
            "tar: CLL/sj-05-5269-R10_009.tif: Cannot open: Transport endpoint is not connected\n",
            "CLL/sj-05-5269-R10_010.tif\n",
            "tar: CLL/sj-05-5269-R10_010.tif: Cannot open: Transport endpoint is not connected\n",
            "CLL/sj-05-5269-R10_011.tif\n",
            "tar: CLL/sj-05-5269-R10_011.tif: Cannot open: Transport endpoint is not connected\n",
            "CLL/sj-05-5269-R10_012.tif\n",
            "tar: CLL/sj-05-5269-R10_012.tif: Cannot open: Transport endpoint is not connected\n",
            "CLL/sj-05-5269-R10_013.tif\n",
            "tar: CLL/sj-05-5269-R10_013.tif: Cannot open: Transport endpoint is not connected\n",
            "CLL/sj-05-5269-R10_014.tif\n",
            "tar: CLL/sj-05-5269-R10_014.tif: Cannot open: Transport endpoint is not connected\n",
            "CLL/sj-05-5269-R10_015.tif\n",
            "tar: CLL/sj-05-5269-R10_015.tif: Cannot open: Transport endpoint is not connected\n",
            "FL/\n",
            "tar: FL: Cannot mkdir: Transport endpoint is not connected\n",
            "FL/.DS_Store\n",
            "tar: FL/.DS_Store: Cannot open: Transport endpoint is not connected\n",
            "FL/sj-05-1467-R1_001.tif\n",
            "tar: FL/sj-05-1467-R1_001.tif: Cannot open: Transport endpoint is not connected\n",
            "FL/sj-05-1467-R1_002.tif\n",
            "tar: FL/sj-05-1467-R1_002.tif: Cannot open: Transport endpoint is not connected\n",
            "FL/sj-05-1467-R1_003.tif\n",
            "tar: FL/sj-05-1467-R1_003.tif: Cannot open: Transport endpoint is not connected\n",
            "FL/sj-05-1467-R1_004.tif\n",
            "tar: FL/sj-05-1467-R1_004.tif: Cannot open: Transport endpoint is not connected\n",
            "FL/sj-05-1467-R1_005.tif\n",
            "tar: FL/sj-05-1467-R1_005.tif: Cannot open: Transport endpoint is not connected\n",
            "FL/sj-05-1467-R1_006.tif\n",
            "tar: FL/sj-05-1467-R1_006.tif: Cannot open: Transport endpoint is not connected\n",
            "FL/sj-05-1467-R1_007.tif\n",
            "tar: FL/sj-05-1467-R1_007.tif: Cannot open: Transport endpoint is not connected\n",
            "FL/sj-05-1467-R1_008.tif\n",
            "tar: FL/sj-05-1467-R1_008.tif: Cannot open: Transport endpoint is not connected\n",
            "FL/sj-05-1467-R1_009.tif\n",
            "tar: FL/sj-05-1467-R1_009.tif: Cannot open: Transport endpoint is not connected\n",
            "FL/sj-05-1467-R1_010.tif\n",
            "tar: FL/sj-05-1467-R1_010.tif: Cannot open: Transport endpoint is not connected\n",
            "FL/sj-05-1467-R1_011.tif\n",
            "tar: FL/sj-05-1467-R1_011.tif: Cannot open: Transport endpoint is not connected\n",
            "FL/sj-05-1881-R1_001.tif\n",
            "tar: FL/sj-05-1881-R1_001.tif: Cannot open: Transport endpoint is not connected\n",
            "FL/sj-05-1881-R1_002.tif\n",
            "tar: FL/sj-05-1881-R1_002.tif: Cannot open: Transport endpoint is not connected\n",
            "FL/sj-05-1881-R1_003.tif\n",
            "tar: FL/sj-05-1881-R1_003.tif: Cannot open: Transport endpoint is not connected\n",
            "FL/sj-05-1881-R1_004.tif\n",
            "tar: FL/sj-05-1881-R1_004.tif: Cannot open: Transport endpoint is not connected\n",
            "FL/sj-05-1881-R1_005.tif\n",
            "tar: FL/sj-05-1881-R1_005.tif: Cannot open: Transport endpoint is not connected\n",
            "FL/sj-05-1881-R1_006.tif\n",
            "tar: FL/sj-05-1881-R1_006.tif: Cannot open: Transport endpoint is not connected\n",
            "FL/sj-05-1881-R1_007.tif\n",
            "^C\n"
          ]
        }
      ]
    },
    {
      "cell_type": "code",
      "source": [
        "ls -lh /content/drive/MyDrive/PytorchDigitalPathology/classification_lymphoma_densenet/lymphoma.tar.gz\n"
      ],
      "metadata": {
        "colab": {
          "base_uri": "https://localhost:8080/"
        },
        "id": "ScsTMHbG7C5-",
        "outputId": "66f76be5-77a6-48fa-b399-4823fd453977"
      },
      "execution_count": null,
      "outputs": [
        {
          "output_type": "stream",
          "name": "stdout",
          "text": [
            "-rw------- 1 root root 1.4G Jan 20 18:11 /content/drive/MyDrive/PytorchDigitalPathology/classification_lymphoma_densenet/lymphoma.tar.gz\n"
          ]
        }
      ]
    },
    {
      "cell_type": "code",
      "source": [],
      "metadata": {
        "id": "2RJqx7ma7qQs"
      },
      "execution_count": null,
      "outputs": []
    }
  ],
  "metadata": {
    "colab": {
      "provenance": [],
      "gpuType": "T4",
      "include_colab_link": true
    },
    "kernelspec": {
      "display_name": "Python 3",
      "name": "python3"
    },
    "language_info": {
      "codemirror_mode": {
        "name": "ipython",
        "version": 3
      },
      "file_extension": ".py",
      "mimetype": "text/x-python",
      "name": "python",
      "nbconvert_exporter": "python",
      "pygments_lexer": "ipython3",
      "version": "3.8.10"
    },
    "accelerator": "GPU"
  },
  "nbformat": 4,
  "nbformat_minor": 0
}