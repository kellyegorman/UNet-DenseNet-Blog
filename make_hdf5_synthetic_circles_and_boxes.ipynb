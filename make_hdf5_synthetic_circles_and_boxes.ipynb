{
  "cells": [
    {
      "cell_type": "markdown",
      "metadata": {
        "id": "view-in-github",
        "colab_type": "text"
      },
      "source": [
        "<a href=\"https://colab.research.google.com/github/kellyegorman/UNet-DenseNet-Blog/blob/main/make_hdf5_synthetic_circles_and_boxes.ipynb\" target=\"_parent\"><img src=\"https://colab.research.google.com/assets/colab-badge.svg\" alt=\"Open In Colab\"/></a>"
      ]
    },
    {
      "cell_type": "code",
      "execution_count": null,
      "metadata": {
        "id": "3Ts1DCKKkE8A"
      },
      "outputs": [],
      "source": [
        "dataname=\"synthetic\"\n",
        "\n",
        "patch_size=256 #size of the tiles to put into DB\n",
        "data_size=[10000,100]\n",
        "balance=.5\n",
        "classes=[0,1] #what classes we expect to have in the data, in this case data without boxes and data with boxes\n",
        "\n",
        "max_circles=10\n",
        "max_squares=1\n",
        "diameter_min=10\n",
        "diameter_max=50\n",
        "\n",
        "phases=[\"train\",\"val\"]"
      ]
    },
    {
      "cell_type": "code",
      "execution_count": null,
      "metadata": {
        "id": "PtWu3U3OkKwy",
        "colab": {
          "base_uri": "https://localhost:8080/"
        },
        "outputId": "c6866d1c-cf68-467a-a145-c35acfa96907"
      },
      "outputs": [
        {
          "output_type": "stream",
          "name": "stdout",
          "text": [
            "random seed (note down for reproducibility): 7767147592313434056\n"
          ]
        }
      ],
      "source": [
        "import random\n",
        "import tables\n",
        "import sys\n",
        "\n",
        "import numpy as np\n",
        "import matplotlib.pyplot as plt\n",
        "\n",
        "from PIL import Image, ImageDraw\n",
        "\n",
        "\n",
        "seed = random.randrange(sys.maxsize) #get a random seed so that we can reproducibly do the cross validation setup\n",
        "random.seed(seed) # set the seed\n",
        "print(f\"random seed (note down for reproducibility): {seed}\")"
      ]
    },
    {
      "cell_type": "code",
      "execution_count": null,
      "metadata": {
        "id": "tuzRFb9nkL_k"
      },
      "outputs": [],
      "source": [
        "img_dtype = tables.UInt8Atom()  # dtype in which the images will be saved, this indicates that images will be saved as unsigned int 8 bit, i.e., [0,255]"
      ]
    },
    {
      "cell_type": "code",
      "execution_count": null,
      "metadata": {
        "id": "_I4XnD_Zk7Ox",
        "colab": {
          "base_uri": "https://localhost:8080/"
        },
        "outputId": "e5a0971b-5673-440d-8c93-5a1a529d115c"
      },
      "outputs": [
        {
          "output_type": "stream",
          "name": "stdout",
          "text": [
            "Mounted at /gdrive\n",
            "/gdrive\n"
          ]
        }
      ],
      "source": [
        "from google.colab import drive\n",
        "drive.mount('/gdrive')\n",
        "%cd /gdrive"
      ]
    },
    {
      "cell_type": "code",
      "execution_count": null,
      "metadata": {
        "id": "MwiJANfbV981",
        "colab": {
          "base_uri": "https://localhost:8080/"
        },
        "outputId": "8884d5ce-5cae-4753-e17f-99f065317924"
      },
      "outputs": [
        {
          "output_type": "stream",
          "name": "stdout",
          "text": [
            "'BCG Notes.gdoc'\n",
            "'Bloomberg Forum.gdoc'\n",
            "'Christmas 2023 :).gslides'\n",
            "'Christmas List.gdoc'\n",
            " \u001b[0m\u001b[01;34mClassroom\u001b[0m/\n",
            "\u001b[01;34m'Colab Notebooks'\u001b[0m/\n",
            " \u001b[01;34mColab_Notebooks\u001b[0m/\n",
            "'COURSE PLANNING!.gsheet'\n",
            "'Critiques Week 2.gdoc'\n",
            "'CSDS 132 Midterm Review .gdoc'\n",
            "'CSDS 133 NOTES.gdoc'\n",
            "'CSDS 233 NOTES.gdoc'\n",
            "'CSDS234 Lecture Notes.pdf'\n",
            "'CSDS 234 Project To-Do.gdoc'\n",
            "'Data Science Statistics Intern Cover Letter.gdoc'\n",
            "'DELOITTE MTG.gdoc'\n",
            "'DenseNet Lymphoma Slides - Kelly Gorman.gslides'\n",
            "'DenseNet Model Results.gslides'\n",
            "'dresses and clothes comp.gsheet'\n",
            "'DSC - Comparison Between Models.gsheet'\n",
            "'DSCI 330 Notes.gdoc'\n",
            " E05F31F3-6443-4956-B0BF-038FD1615EB9.jpeg\n",
            "'E2 Chem Review Topics.gdoc'\n",
            "'Elfreda Chatman-Walter Speaker Reflection.gdoc'\n",
            "'ENGL 213 Coming Out story.gdoc'\n",
            " epistroma_results.gslides\n",
            " epistroma_results.pptx\n",
            "'ESC2 FINAL.gdoc'\n",
            "'Esc 3 Final.gdoc'\n",
            "'Escritura 2.gdoc'\n",
            "'Exam 2 Chem SI Review!!!.gdoc'\n",
            "'EXAM 2 CHEM SI Sessions.gdoc'\n",
            " Fall2023-Pre-survey.gdoc\n",
            " \u001b[01;34mGoodNotes\u001b[0m/\n",
            " Gorman_BigData.gdoc\n",
            "'Gorman, Kelly- Transfer Credit Approval Form-3.pdf'\n",
            "'Gorman, Kelly- Transfer Credit Approval Form-5.pdf'\n",
            "'grad school.gsheet'\n",
            "'HW1 csds133.gdoc'\n",
            "'International Business Environments and Operations (John Daniels, Lee Radebaugh, Daniel Sullivan etc.) (Z-Library).pdf'\n",
            "'INTERVIEW PREP.gdoc'\n",
            "'JAVA FINAL REVIEW.gdoc'\n",
            "'JAVA WRITTEN ASSIGNMENT.gdoc'\n",
            "'JOB APP GRINDDDD 2025.gsheet'\n",
            "'Job App Grind the SQL 2026.gsheet'\n",
            "'Kelly Gorman LCR Lab.gdoc'\n",
            "'Kelly Gorman Project 3 Summary Report.gdoc'\n",
            "'Kelly Gorman Resume 05 2026.gdoc'\n",
            "'Kelly Gorman Resume 12 2026.gdoc'\n",
            "'Kelly Gorman Resume 2024.gdoc'\n",
            "'Kelly Gorman Resume (3) (1).gdoc'\n",
            "'Kelly Gorman Resume (3) (1).pdf'\n",
            "'Kelly Gorman Resume (3).gdoc'\n",
            "'Kelly Gorman Resume (3).pdf'\n",
            "'Kelly Gorman Resume.gdoc'\n",
            "'Kelly Gorman Testing HW2.gdoc'\n",
            "\"Kelly's Christmas List.gslides\"\n",
            "\"Kelly's English book tier ranking.gslides\"\n",
            "'Math 122 Textbook Answers.gdoc'\n",
            "'not my bootleg mastersheet.gsheet'\n",
            "'not my fanfiction mastersheet.gsheet'\n",
            " OL.gdoc\n",
            "'PGT Trucking Interview.gdoc'\n",
            "'Phi Mu Scholarship.gdoc'\n",
            "'PNC Interview.gdoc'\n",
            "'Project 1 Summary Report.gdoc'\n",
            "'Project 1 Testing Code .gdoc'\n",
            "'Project 4 Testing Report.gdoc'\n",
            " \u001b[01;34mPytorchDigitalPathology\u001b[0m/\n",
            "'Reflective Essay.gdoc'\n",
            "'Remediations -- RKE Lab Kelly Gorman.gdoc'\n",
            "'Resume 2024.gdoc'\n",
            " Resume.gdoc\n",
            "'Rewrite Star Wars IX.gdoc'\n",
            "'SHM Kelly Gorman Phys 121 .gdoc'\n",
            "'SIGNET INTERVIEW PREP.gdoc'\n",
            " sn.drawio\n",
            "'soci264 discussion 1.gdoc'\n",
            "'SOCI 264 Essay 3.gdoc'\n",
            "'SOCI264 Essays 1.gdoc'\n",
            "'SOCI264 EXAM 2.gdoc'\n",
            "'SOCI 264 Movie Review.gdoc'\n",
            "'Stat 243 Project.gdoc'\n",
            " stats_243_data.gsheet\n",
            "'Stats 243 Project.gform'\n",
            "'TS Books.gsheet'\n",
            "'TS Statistical Battle Ranking .gsheet'\n",
            "'UGERS That Dont Make Me Suicidal.gsheet'\n",
            "'Untitled document (1).gdoc'\n",
            "'Untitled document (2).gdoc'\n",
            "'Untitled document (3).gdoc'\n",
            "'Untitled document.gdoc'\n",
            "'Untitled presentation.gslides'\n",
            "'Untitled spreadsheet.gsheet'\n"
          ]
        }
      ],
      "source": [
        "%ls MyDrive/"
      ]
    },
    {
      "cell_type": "code",
      "execution_count": null,
      "metadata": {
        "id": "5MzPGzEalQWg",
        "colab": {
          "base_uri": "https://localhost:8080/"
        },
        "outputId": "8c9098c1-9125-43ff-cd06-b14546d5d0f5"
      },
      "outputs": [
        {
          "output_type": "stream",
          "name": "stdout",
          "text": [
            "/gdrive/MyDrive/PytorchDigitalPathology/visualization_densenet\n"
          ]
        }
      ],
      "source": [
        "%cd /gdrive/MyDrive/PytorchDigitalPathology/visualization_densenet"
      ]
    },
    {
      "cell_type": "code",
      "execution_count": null,
      "metadata": {
        "id": "jOjsmy4QkU6N",
        "colab": {
          "base_uri": "https://localhost:8080/"
        },
        "outputId": "11cc1ae3-a1d5-493c-9092-9ea7d235f4ff"
      },
      "outputs": [
        {
          "output_type": "stream",
          "name": "stdout",
          "text": [
            "train\n",
            "val\n",
            "done\n"
          ]
        }
      ],
      "source": [
        "%matplotlib inline\n",
        "storage={} #holder for future pytables\n",
        "\n",
        "block_shape=np.array((patch_size,patch_size)) #block shape specifies what we'll be saving into the pytable array, here we assume that masks are 1d and images are 3d\n",
        "\n",
        "filters=tables.Filters(complevel=6, complib='zlib') #we can also specify filters, such as compression, to improve storage speed\n",
        "\n",
        "\n",
        "for phase,nimgs in zip(phases,data_size): #now for each of the phases, we'll loop through the files\n",
        "    print(phase)\n",
        "\n",
        "    totals=np.zeros(2) # we can to keep counts of all the classes in for in particular training, since we\n",
        "\n",
        "    hdf5_file = tables.open_file(f\"./{dataname}_{phase}.pytable\", mode='w') #open the respective pytable\n",
        "\n",
        "\n",
        "    storage[\"imgs\"]= hdf5_file.create_earray(hdf5_file.root, \"imgs\", img_dtype,\n",
        "                                              shape=np.append([0],block_shape),\n",
        "                                              chunkshape=np.append([1],block_shape),\n",
        "                                              filters=filters)\n",
        "    storage[\"labels\"]= hdf5_file.create_earray(hdf5_file.root, \"labels\", img_dtype,\n",
        "                                              shape=[0],\n",
        "                                              chunkshape=[1],\n",
        "                                              filters=filters)\n",
        "\n",
        "\n",
        "    for filei in range(nimgs): #now for each of the files\n",
        "        img=np.zeros((patch_size,patch_size))\n",
        "        img = Image.fromarray(img)\n",
        "        draw= ImageDraw.Draw(img)\n",
        "\n",
        "        for i in range(np.random.randint(0,high=max_circles)):\n",
        "            d=np.random.randint(diameter_min,diameter_max)\n",
        "            ul=np.random.randint(diameter_min,patch_size-diameter_max,2)\n",
        "            draw.ellipse(list(np.append(ul,ul+d)),fill=255)\n",
        "\n",
        "\n",
        "        label=np.random.random()>balance\n",
        "        if label:\n",
        "            for i in range(np.random.randint(1,high=max_squares+1)):\n",
        "                d=np.random.randint(diameter_min,diameter_max)\n",
        "                ul=np.random.randint(diameter_min,patch_size-diameter_max,2)\n",
        "                draw.rectangle(list(np.append(ul,ul+d)),fill=255)\n",
        "                totals[1]+=1\n",
        "        else:\n",
        "            totals[0]+=1\n",
        "            #add square\n",
        "\n",
        "        del draw\n",
        "\n",
        "        storage[\"imgs\"].append(np.array(img)[None,::])\n",
        "        storage[\"labels\"].append([np.uint8(label)]) #add the filename to the storage array\n",
        "\n",
        "    #lastely, we should store the number of pixels\n",
        "    npixels=hdf5_file.create_carray(hdf5_file.root, 'classsizes', tables.Atom.from_dtype(totals.dtype), totals.shape)\n",
        "    npixels[:]=totals\n",
        "    hdf5_file.close()\n",
        "\n",
        "print(\"done\")"
      ]
    },
    {
      "cell_type": "code",
      "execution_count": null,
      "metadata": {
        "id": "ahiyvxyzWI1c",
        "colab": {
          "base_uri": "https://localhost:8080/",
          "height": 219
        },
        "outputId": "3759574b-a3c8-4a2c-ff2c-5b499b8dde25"
      },
      "outputs": [
        {
          "output_type": "display_data",
          "data": {
            "text/plain": [
              "<Figure size 800x400 with 3 Axes>"
            ],
            "image/png": "[encoded data removed]"
          },
          "metadata": {}
        }
      ],
      "source": [
        "import numpy as np\n",
        "import tables\n",
        "import matplotlib.pyplot as plt\n",
        "from PIL import Image, ImageDraw\n",
        "\n",
        "# Load the stored data\n",
        "hdf5_file = tables.open_file(f\"./{dataname}_{phase}.pytable\", mode='r')\n",
        "\n",
        "# Extract stored images and labels\n",
        "imgs = hdf5_file.root.imgs[:]\n",
        "labels = hdf5_file.root.labels[:]\n",
        "\n",
        "# Select two random indices\n",
        "indices = np.random.choice(len(imgs), 3, replace=False)\n",
        "\n",
        "# Display the two images\n",
        "fig, axes = plt.subplots(1, 3, figsize=(8, 4))\n",
        "\n",
        "for i, idx in enumerate(indices):\n",
        "    axes[i].imshow(imgs[idx], cmap=\"gray\")  # Display as grayscale\n",
        "    # axes[i].set_title(f\"Label: {labels[idx][0]}\")\n",
        "    axes[i].axis(\"off\")\n",
        "\n",
        "plt.show()\n",
        "\n",
        "# Close the HDF5 file\n",
        "hdf5_file.close()"
      ]
    },
    {
      "cell_type": "code",
      "source": [],
      "metadata": {
        "id": "06ays1Tz9ENO"
      },
      "execution_count": null,
      "outputs": []
    }
  ],
  "metadata": {
    "colab": {
      "provenance": [],
      "gpuType": "T4",
      "include_colab_link": true
    },
    "kernelspec": {
      "display_name": "Python 3",
      "name": "python3"
    },
    "accelerator": "GPU"
  },
  "nbformat": 4,
  "nbformat_minor": 0
}