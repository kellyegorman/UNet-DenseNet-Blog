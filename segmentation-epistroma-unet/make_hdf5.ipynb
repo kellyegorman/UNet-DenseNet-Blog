{
  "cells": [
    {
      "cell_type": "markdown",
      "metadata": {
        "id": "view-in-github",
        "colab_type": "text"
      },
      "source": [
        "<a href=\"https://colab.research.google.com/github/kellyegorman/UNet-DenseNet-Blog/blob/main/segmentation-epistroma-unet/make_hdf5.ipynb\" target=\"_parent\"><img src=\"https://colab.research.google.com/assets/colab-badge.svg\" alt=\"Open In Colab\"/></a>"
      ]
    },
    {
      "cell_type": "code",
      "execution_count": null,
      "metadata": {
        "id": "Mwhe4j4aJjGs",
        "colab": {
          "base_uri": "https://localhost:8080/"
        },
        "outputId": "afd9d374-d2ac-4016-efe1-14c2a8119c5d"
      },
      "outputs": [
        {
          "output_type": "stream",
          "name": "stdout",
          "text": [
            "1.6.1\n"
          ]
        }
      ],
      "source": [
        "import sklearn\n",
        "print(sklearn.__version__)"
      ]
    },
    {
      "cell_type": "code",
      "execution_count": null,
      "metadata": {
        "id": "9GB4qc3-Rk4I",
        "colab": {
          "base_uri": "https://localhost:8080/"
        },
        "outputId": "bc71a99b-9d6e-490f-b7cc-077f11053a2e"
      },
      "outputs": [
        {
          "output_type": "stream",
          "name": "stdout",
          "text": [
            "Mounted at /gdrive\n",
            "/gdrive/MyDrive/PytorchDigitalPathology/segmentation_epistroma_unet\n"
          ]
        }
      ],
      "source": [
        "from google.colab import drive\n",
        "drive.mount('/gdrive')\n",
        "%cd /gdrive/MyDrive/PytorchDigitalPathology/segmentation_epistroma_unet"
      ]
    },
    {
      "cell_type": "code",
      "execution_count": null,
      "metadata": {
        "id": "LZMX2mZ8Rc5g",
        "lines_to_next_cell": 2
      },
      "outputs": [],
      "source": [
        "#v2\n",
        "#7/11/2018\n",
        "\n",
        "dataname=\"epistroma\"\n",
        "\n",
        "patch_size=500 #size of the tiles to extract and save in the database, must be >= to training size\n",
        "stride_size=250 #distance to skip between patches, 1 indicated pixel wise extraction, patch_size would result in non-overlapping tiles\n",
        "mirror_pad_size=250 # number of pixels to pad *after* resize to image with by mirroring (edge's of patches tend not to be analyzed well, so padding allows them to appear more centered in the patch)\n",
        "test_set_size=.1 # what percentage of the dataset should be used as a held out validation/testing set\n",
        "resize=1 #resize input images\n",
        "classes=[0,1] #what classes we expect to have in the data, here we have only 2 classes but we could add additional classes and/or specify an index from which we would like to ignore\n",
        "\n",
        "#-----Note---\n",
        "#One should likely make sure that  (nrow+mirror_pad_size) mod patch_size == 0, where nrow is the number of rows after resizing\n",
        "#so that no pixels are lost (any remainer is ignored)\n"
      ]
    },
    {
      "cell_type": "code",
      "execution_count": null,
      "metadata": {
        "id": "Tkud5vxlRc5k",
        "colab": {
          "base_uri": "https://localhost:8080/"
        },
        "outputId": "a8f61b2e-75ea-43b0-d21f-fe0bda16166e"
      },
      "outputs": [
        {
          "output_type": "stream",
          "name": "stdout",
          "text": [
            "random seed (note down for reproducibility): 4787853204310348520\n"
          ]
        }
      ],
      "source": [
        "import torch\n",
        "import tables\n",
        "\n",
        "import os,sys\n",
        "import glob\n",
        "\n",
        "import PIL\n",
        "import numpy as np\n",
        "\n",
        "import cv2\n",
        "import matplotlib.pyplot as plt\n",
        "from PS_scikitlearn import extract_patches\n",
        "from sklearn import model_selection\n",
        "\n",
        "import random\n",
        "\n",
        "\n",
        "seed = random.randrange(sys.maxsize) #get a random seed so that we can reproducibly do the cross validation setup\n",
        "random.seed(seed) # set the seed\n",
        "print(f\"random seed (note down for reproducibility): {seed}\")"
      ]
    },
    {
      "cell_type": "code",
      "execution_count": null,
      "metadata": {
        "id": "Jd1t7jgLRc5o"
      },
      "outputs": [],
      "source": [
        "img_dtype = tables.UInt8Atom()  # dtype in which the images will be saved, this indicates that images will be saved as unsigned int 8 bit, i.e., [0,255]\n",
        "filenameAtom = tables.StringAtom(itemsize=255) #create an atom to store the filename of the image, just incase we need it later,"
      ]
    },
    {
      "cell_type": "code",
      "execution_count": null,
      "metadata": {
        "id": "DXMSkQM1Rc5r"
      },
      "outputs": [],
      "source": [
        "files=glob.glob('./data/masks/*.png') # create a list of the files, in this case we're only interested in files which have masks so we can use supervised learning\n",
        "\n",
        "#create training and validation stages and split the files appropriately between them\n",
        "phases={}\n",
        "phases[\"train\"],phases[\"val\"]=next(iter(model_selection.ShuffleSplit(n_splits=1,test_size=test_set_size).split(files)))\n",
        "\n",
        "#specify that we'll be saving 2 different image types to the database, an image and its associated masked\n",
        "imgtypes=[\"img\",\"mask\"]"
      ]
    },
    {
      "cell_type": "code",
      "execution_count": null,
      "metadata": {
        "id": "EUym1p3-Rc5u",
        "scrolled": true,
        "colab": {
          "base_uri": "https://localhost:8080/"
        },
        "outputId": "5ca484ac-8265-4b8f-d81b-5fd3367c69cf"
      },
      "outputs": [
        {
          "output_type": "stream",
          "name": "stdout",
          "text": [
            "train\n",
            "./data/masks/12626_00016_mask.png\n",
            "img\n",
            "mask\n",
            "./data/masks/12826_00003_mask.png\n",
            "img\n",
            "mask\n",
            "./data/masks/9346_00019_mask.png\n",
            "img\n",
            "mask\n",
            "./data/masks/10261_00002_mask.png\n",
            "img\n",
            "mask\n",
            "./data/masks/8975_00017_mask.png\n",
            "img\n",
            "mask\n",
            "./data/masks/10285_00007_mask.png\n",
            "img\n",
            "mask\n",
            "./data/masks/12947_00004_mask.png\n",
            "img\n",
            "mask\n",
            "./data/masks/12930_00008_mask.png\n",
            "img\n",
            "mask\n",
            "./data/masks/10302_00098_mask.png\n",
            "img\n",
            "mask\n",
            "./data/masks/12909_00003_mask.png\n",
            "img\n",
            "mask\n",
            "./data/masks/9023_00012_mask.png\n",
            "img\n",
            "mask\n",
            "./data/masks/12907_00003_mask.png\n",
            "img\n",
            "mask\n",
            "./data/masks/12932_00003_mask.png\n",
            "img\n",
            "mask\n",
            "./data/masks/12818_00006_mask.png\n",
            "img\n",
            "mask\n",
            "./data/masks/12881_00009_mask.png\n",
            "img\n",
            "mask\n",
            "./data/masks/8951_00005_mask.png\n",
            "img\n",
            "mask\n",
            "./data/masks/8957_00005_mask.png\n",
            "img\n",
            "mask\n",
            "./data/masks/10278_00006_mask.png\n",
            "img\n",
            "mask\n",
            "./data/masks/10282_00016_mask.png\n",
            "img\n",
            "mask\n",
            "./data/masks/12819_00004_mask.png\n",
            "img\n",
            "mask\n",
            "./data/masks/10260_00022_mask.png\n",
            "img\n",
            "mask\n",
            "./data/masks/9043_00045_mask.png\n",
            "img\n",
            "mask\n",
            "./data/masks/8918_00007_mask.png\n",
            "img\n",
            "mask\n",
            "./data/masks/12867_00005_mask.png\n",
            "img\n",
            "mask\n",
            "./data/masks/10264_00056_mask.png\n",
            "img\n",
            "mask\n",
            "./data/masks/10308_00048_mask.png\n",
            "img\n",
            "mask\n",
            "./data/masks/12880_00001_mask.png\n",
            "img\n",
            "mask\n",
            "./data/masks/10293_00011_mask.png\n",
            "img\n",
            "mask\n",
            "./data/masks/10304_00005_mask.png\n",
            "img\n",
            "mask\n",
            "./data/masks/12884_00018_mask.png\n",
            "img\n",
            "mask\n",
            "./data/masks/10291_00012_mask.png\n",
            "img\n",
            "mask\n",
            "./data/masks/10286_00014_mask.png\n",
            "img\n",
            "mask\n",
            "./data/masks/10279_00049_mask.png\n",
            "img\n",
            "mask\n",
            "./data/masks/12929_00017_mask.png\n",
            "img\n",
            "mask\n",
            "./data/masks/9227_00006_mask.png\n",
            "img\n",
            "mask\n",
            "./data/masks/9250_00025_mask.png\n",
            "img\n",
            "mask\n",
            "./data/masks/10288_00003_mask.png\n",
            "img\n",
            "mask\n",
            "val\n",
            "./data/masks/8974_00014_mask.png\n",
            "img\n",
            "mask\n",
            "./data/masks/12911_00005_mask.png\n",
            "img\n",
            "mask\n",
            "./data/masks/10295_00012_mask.png\n",
            "img\n",
            "mask\n",
            "./data/masks/12820_00005_mask.png\n",
            "img\n",
            "mask\n",
            "./data/masks/12875_00002_mask.png\n",
            "img\n",
            "mask\n"
          ]
        }
      ],
      "source": [
        "\n",
        "storage={} #holder for future pytables\n",
        "\n",
        "block_shape={} #block shape specifies what we'll be saving into the pytable array, here we assume that masks are 1d and images are 3d\n",
        "block_shape[\"img\"]= np.array((patch_size,patch_size,3))\n",
        "block_shape[\"mask\"]= np.array((patch_size,patch_size))\n",
        "\n",
        "filters=tables.Filters(complevel=6, complib='zlib') #we can also specify filters, such as compression, to improve storage speed\n",
        "\n",
        "\n",
        "for phase in phases.keys(): #now for each of the phases, we'll loop through the files\n",
        "    print(phase)\n",
        "\n",
        "    totals=np.zeros((2,len(classes))) # we can to keep counts of all the classes in for in particular training, since we\n",
        "    totals[0,:]=classes               # can later use this information to create better weights\n",
        "\n",
        "    hdf5_file = tables.open_file(f\"./{dataname}_{phase}.pytable\", mode='w') #open the respective pytable\n",
        "    storage[\"filename\"] = hdf5_file.create_earray(hdf5_file.root, 'filename', filenameAtom, (0,)) #create the array for storage\n",
        "\n",
        "    for imgtype in imgtypes: #for each of the image types, in this case mask and image, we need to create the associated earray\n",
        "        storage[imgtype]= hdf5_file.create_earray(hdf5_file.root, imgtype, img_dtype,\n",
        "                                                  shape=np.append([0],block_shape[imgtype]),\n",
        "                                                  chunkshape=np.append([1],block_shape[imgtype]),\n",
        "                                                  filters=filters)\n",
        "\n",
        "    for filei in phases[phase]: #now for each of the files\n",
        "        fname=files[filei]\n",
        "\n",
        "        print(fname)\n",
        "        for imgtype in imgtypes:\n",
        "            print(imgtype)\n",
        "            if(imgtype==\"img\"): #if we're looking at an img, it must be 3 channel, but cv2 won't load it in the correct channel order, so we need to fix that\n",
        "                #Replaced the ./imgs/ to the google drive path.\n",
        "                io=cv2.cvtColor(cv2.imread(\"./data/\"+os.path.basename(fname).replace(\"_mask.png\",\".tif\")),cv2.COLOR_BGR2RGB)\n",
        "                interp_method=PIL.Image.BICUBIC\n",
        "\n",
        "            else: #if its a mask image, then we only need a single channel (since grayscale 3D images are equal in all channels)\n",
        "                io=cv2.imread(fname)/255 #the image is loaded as {0,255}, but we'd like to store it as {0,1} since this represents the binary nature of the mask easier\n",
        "                interp_method=PIL.Image.NEAREST #want to use nearest! otherwise resizing may cause non-existing classes to be produced via interpolation (e.g., \".25\")\n",
        "\n",
        "                for i,key in enumerate(classes): #sum the number of pixels, this is done pre-resize, the but proportions don't change which is really what we're after\n",
        "                    totals[1,i]+=sum(sum(io[:,:,0]==key))\n",
        "\n",
        "\n",
        "            io = cv2.resize(io,(0,0),fx=resize,fy=resize, interpolation=interp_method) #resize it as specified above\n",
        "            io = np.pad(io, [(mirror_pad_size, mirror_pad_size), (mirror_pad_size, mirror_pad_size), (0, 0)], mode=\"reflect\")\n",
        "\n",
        "            #convert input image into overlapping tiles, size is ntiler x ntilec x 1 x patch_size x patch_size x3\n",
        "            io_arr_out=extract_patches(io,(patch_size,patch_size,3),stride_size)\n",
        "\n",
        "            #resize it into a ntile x patch_size x patch_size x 3\n",
        "            io_arr_out=io_arr_out.reshape(-1,patch_size,patch_size,3)\n",
        "\n",
        "\n",
        "\n",
        "            #save the 4D tensor to the table\n",
        "            if(imgtype==\"img\"):\n",
        "                storage[imgtype].append(io_arr_out)\n",
        "            else:\n",
        "                storage[imgtype].append(io_arr_out[:,:,:,0].squeeze()) #only need 1 channel for mask data\n",
        "\n",
        "        storage[\"filename\"].append([fname for x in range(io_arr_out.shape[0])]) #add the filename to the storage array\n",
        "\n",
        "    #lastely, we should store the number of pixels\n",
        "    npixels=hdf5_file.create_carray(hdf5_file.root, 'numpixels', tables.Atom.from_dtype(totals.dtype), totals.shape)\n",
        "    npixels[:]=totals\n",
        "    hdf5_file.close()"
      ]
    },
    {
      "cell_type": "markdown",
      "metadata": {
        "id": "u3iqhmV5Rc5x",
        "lines_to_next_cell": 2
      },
      "source": [
        "useful reference\n",
        "http://machinelearninguru.com/deep_learning/data_preparation/hdf5/hdf5.html"
      ]
    },
    {
      "cell_type": "code",
      "source": [],
      "metadata": {
        "id": "25vmLubwJM1V"
      },
      "execution_count": null,
      "outputs": []
    }
  ],
  "metadata": {
    "colab": {
      "provenance": [],
      "include_colab_link": true
    },
    "jupytext": {
      "formats": "ipynb,py:light"
    },
    "kernelspec": {
      "display_name": "Python 3",
      "language": "python",
      "name": "python3"
    },
    "language_info": {
      "codemirror_mode": {
        "name": "ipython",
        "version": 3
      },
      "file_extension": ".py",
      "mimetype": "text/x-python",
      "name": "python",
      "nbconvert_exporter": "python",
      "pygments_lexer": "ipython3",
      "version": "3.8.3"
    }
  },
  "nbformat": 4,
  "nbformat_minor": 0
}