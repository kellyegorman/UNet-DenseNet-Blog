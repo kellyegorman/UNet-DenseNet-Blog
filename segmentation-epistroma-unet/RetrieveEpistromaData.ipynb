{
  "cells": [
    {
      "cell_type": "markdown",
      "metadata": {
        "id": "view-in-github",
        "colab_type": "text"
      },
      "source": [
        "<a href=\"https://colab.research.google.com/github/kellyegorman/UNet-DenseNet-Blog/blob/main/segmentation-epistroma-unet/RetrieveEpistromaData.ipynb\" target=\"_parent\"><img src=\"https://colab.research.google.com/assets/colab-badge.svg\" alt=\"Open In Colab\"/></a>"
      ]
    },
    {
      "cell_type": "markdown",
      "metadata": {
        "id": "y230qH8CDPHT"
      },
      "source": [
        "Obtaining the data for Epistroma Segmentation."
      ]
    },
    {
      "cell_type": "code",
      "execution_count": null,
      "metadata": {
        "id": "8IPcYAOWDHzu",
        "colab": {
          "base_uri": "https://localhost:8080/"
        },
        "outputId": "c67959b6-f2ad-4744-ee65-3227ca9deaa2"
      },
      "outputs": [
        {
          "output_type": "stream",
          "name": "stdout",
          "text": [
            "--2025-01-21 15:17:33--  http://andrewjanowczyk.com/wp-static/epi.tgz\n",
            "Resolving andrewjanowczyk.com (andrewjanowczyk.com)... 170.140.138.87\n",
            "Connecting to andrewjanowczyk.com (andrewjanowczyk.com)|170.140.138.87|:80... connected.\n",
            "HTTP request sent, awaiting response... 301 Moved Permanently\n",
            "Location: https://andrewjanowczyk.com/wp-static/epi.tgz [following]\n",
            "--2025-01-21 15:17:33--  https://andrewjanowczyk.com/wp-static/epi.tgz\n",
            "Connecting to andrewjanowczyk.com (andrewjanowczyk.com)|170.140.138.87|:443... connected.\n",
            "WARNING: cannot verify andrewjanowczyk.com's certificate, issued by ‘CN=E5,O=Let's Encrypt,C=US’:\n",
            "  Unable to locally verify the issuer's authority.\n",
            "HTTP request sent, awaiting response... 200 OK\n",
            "Length: 352039805 (336M) [application/x-gzip]\n",
            "Saving to: ‘epi.tgz’\n",
            "\n",
            "epi.tgz             100%[===================>] 335.73M  64.2MB/s    in 4.5s    \n",
            "\n",
            "2025-01-21 15:17:38 (74.0 MB/s) - ‘epi.tgz’ saved [352039805/352039805]\n",
            "\n"
          ]
        }
      ],
      "source": [
        "!wget http://andrewjanowczyk.com/wp-static/epi.tgz --no-check-certificate"
      ]
    },
    {
      "cell_type": "code",
      "execution_count": null,
      "metadata": {
        "id": "VKG9oETUERxH",
        "colab": {
          "base_uri": "https://localhost:8080/"
        },
        "outputId": "1971e0ce-0051-46ec-ebcc-c71b9e394b80"
      },
      "outputs": [
        {
          "output_type": "stream",
          "name": "stdout",
          "text": [
            "Mounted at /gdrive\n",
            "/gdrive\n"
          ]
        }
      ],
      "source": [
        "from google.colab import drive\n",
        "drive.mount('/gdrive')\n",
        "%cd /gdrive"
      ]
    },
    {
      "cell_type": "code",
      "execution_count": null,
      "metadata": {
        "id": "CQX3Kj9nEarr",
        "colab": {
          "base_uri": "https://localhost:8080/"
        },
        "outputId": "7ea6ba85-4b2e-49fc-cab5-c2e9b1599355"
      },
      "outputs": [
        {
          "output_type": "stream",
          "name": "stdout",
          "text": [
            "/gdrive/MyDrive/PytorchDigitalPathology/segmentation_epistroma_unet\n"
          ]
        }
      ],
      "source": [
        "%cd /gdrive/MyDrive/PytorchDigitalPathology/segmentation_epistroma_unet\n"
      ]
    },
    {
      "cell_type": "code",
      "execution_count": null,
      "metadata": {
        "id": "PRIhfuRsEsrr",
        "colab": {
          "base_uri": "https://localhost:8080/"
        },
        "outputId": "88c48534-908c-4e94-a2f6-f73019e79783"
      },
      "outputs": [
        {
          "output_type": "stream",
          "name": "stdout",
          "text": [
            "\u001b[0m\u001b[01;34mdata\u001b[0m/                       PS_scikitlearn.py                unet.py\n",
            "make_hdf5.ipynb             RetrieveEpistromaData.ipynb      visualize_validation_results.ipynb\n",
            "make_output_unet_cmd.ipynb  train_unet_albumentations.ipynb\n"
          ]
        }
      ],
      "source": [
        "%mkdir data\n",
        "%ls"
      ]
    },
    {
      "cell_type": "code",
      "execution_count": null,
      "metadata": {
        "id": "1eyLcoTNE1_E",
        "colab": {
          "base_uri": "https://localhost:8080/"
        },
        "outputId": "44039969-6a1c-4c06-d503-c87271fd633f"
      },
      "outputs": [
        {
          "output_type": "stream",
          "name": "stdout",
          "text": [
            "/gdrive/MyDrive/PytorchDigitalPathology/segmentation_epistroma_unet/data\n"
          ]
        }
      ],
      "source": [
        "%cd data"
      ]
    },
    {
      "cell_type": "code",
      "execution_count": null,
      "metadata": {
        "id": "ibTu74mYFYiU"
      },
      "outputs": [],
      "source": []
    },
    {
      "cell_type": "code",
      "execution_count": null,
      "metadata": {
        "id": "3cwe3JZpFJ3i",
        "colab": {
          "base_uri": "https://localhost:8080/"
        },
        "outputId": "a065ab20-2253-4f14-f9dd-a68772864637"
      },
      "outputs": [
        {
          "output_type": "stream",
          "name": "stdout",
          "text": [
            "10254_00001.tif\n",
            "10256_00003.tif\n",
            "10257_00026.tif\n",
            "10258_00006.tif\n",
            "10259_00002.tif\n",
            "10260_00022.tif\n",
            "10261_00002.tif\n",
            "10262_00025.tif\n",
            "10264_00056.tif\n",
            "10269_00022.tif\n",
            "10273_00095.tif\n",
            "10274_00004.tif\n",
            "10275_00099.tif\n",
            "10276_00037.tif\n",
            "10277_00006.tif\n",
            "10278_00006.tif\n",
            "10279_00049.tif\n",
            "10282_00016.tif\n",
            "10285_00007.tif\n",
            "10286_00014.tif\n",
            "10288_00003.tif\n",
            "10291_00012.tif\n",
            "10292_00018.tif\n",
            "10293_00011.tif\n",
            "10295_00012.tif\n",
            "10299_00154.tif\n",
            "10301_00026.tif\n",
            "10302_00098.tif\n",
            "10303_00090.tif\n",
            "10304_00005.tif\n",
            "10306_00018.tif\n",
            "10307_00004.tif\n",
            "10308_00048.tif\n",
            "12626_00016.tif\n",
            "12749_00010.tif\n",
            "12752_00004.tif\n",
            "12811_00008.tif\n",
            "12818_00006.tif\n",
            "12819_00004.tif\n",
            "12820_00005.tif\n",
            "12821_00018.tif\n",
            "12822_00002.tif\n",
            "12826_00003.tif\n",
            "12867_00005.tif\n",
            "12875_00002.tif\n",
            "12880_00001.tif\n",
            "12881_00009.tif\n",
            "12882_00026.tif\n",
            "12884_00018.tif\n",
            "12891_00006.tif\n",
            "12900_00008.tif\n",
            "12901_00005.tif\n",
            "12906_00017.tif\n",
            "12907_00003.tif\n",
            "12909_00003.tif\n",
            "12911_00005.tif\n",
            "12929_00017.tif\n",
            "12930_00008.tif\n",
            "12931_00010.tif\n",
            "12932_00003.tif\n",
            "12934_00025.tif\n",
            "12947_00004.tif\n",
            "12948_00001.tif\n",
            "8864_00024.tif\n",
            "8865_00002.tif\n",
            "8867_00011.tif\n",
            "8913_00002.tif\n",
            "8914_00006.tif\n",
            "8915_00001.tif\n",
            "8916_00005.tif\n",
            "8918_00007.tif\n",
            "8951_00005.tif\n",
            "8955_00018.tif\n",
            "8956_00011.tif\n",
            "8957_00005.tif\n",
            "8959_00013.tif\n",
            "8974_00014.tif\n",
            "8975_00017.tif\n",
            "8980_00013.tif\n",
            "9022_00008.tif\n",
            "9023_00012.tif\n",
            "9024_00001.tif\n",
            "9029_00010.tif\n",
            "9037_00009.tif\n",
            "9041_00008.tif\n",
            "9043_00045.tif\n",
            "9073_00007.tif\n",
            "9076_00005.tif\n",
            "9078_00011.tif\n",
            "9081_00008.tif\n",
            "9083_00022.tif\n",
            "9123_00005.tif\n",
            "9124_00021.tif\n",
            "9125_00005.tif\n",
            "9126_00056.tif\n",
            "9173_00049.tif\n",
            "9174_00001.tif\n",
            "9175_00001.tif\n",
            "9176_00024.tif\n",
            "9177_00004.tif\n",
            "9178_00010.tif\n",
            "9181_00013.tif\n",
            "9225_00002.tif\n",
            "9227_00006.tif\n",
            "9228_00003.tif\n",
            "9250_00025.tif\n",
            "9254_00013.tif\n",
            "9255_00011.tif\n",
            "9256_00054.tif\n",
            "9257_00012.tif\n",
            "9259_00017.tif\n",
            "9261_00019.tif\n",
            "9265_00001.tif\n",
            "9266_00002.tif\n",
            "9267_00024.tif\n",
            "9290_00006.tif\n",
            "9320_00011.tif\n",
            "9322_00006.tif\n",
            "9323_00021.tif\n",
            "9345_00065.tif\n",
            "9346_00019.tif\n",
            "9347_00011.tif\n",
            "9381_00010.tif\n",
            "9382_00020.tif\n",
            "9383_00006.tif\n",
            "masks/\n",
            "masks/12826_00003_mask.png\n",
            "masks/12820_00005_mask.png\n",
            "masks/12907_00003_mask.png\n",
            "masks/12932_00003_mask.png\n",
            "masks/12880_00001_mask.png\n",
            "masks/9043_00045_mask.png\n",
            "masks/10308_00048_mask.png\n",
            "masks/9250_00025_mask.png\n",
            "masks/10285_00007_mask.png\n",
            "masks/8957_00005_mask.png\n",
            "masks/12818_00006_mask.png\n",
            "masks/10304_00005_mask.png\n",
            "masks/10282_00016_mask.png\n",
            "masks/10293_00011_mask.png\n",
            "masks/12881_00009_mask.png\n",
            "masks/12930_00008_mask.png\n",
            "masks/10279_00049_mask.png\n",
            "masks/12819_00004_mask.png\n",
            "masks/9346_00019_mask.png\n",
            "masks/8975_00017_mask.png\n",
            "masks/12884_00018_mask.png\n",
            "masks/12875_00002_mask.png\n",
            "masks/9227_00006_mask.png\n",
            "masks/10302_00098_mask.png\n",
            "masks/10278_00006_mask.png\n",
            "masks/12867_00005_mask.png\n",
            "masks/8974_00014_mask.png\n",
            "masks/10288_00003_mask.png\n",
            "masks/10264_00056_mask.png\n",
            "masks/12947_00004_mask.png\n",
            "masks/12911_00005_mask.png\n",
            "masks/8951_00005_mask.png\n",
            "masks/10286_00014_mask.png\n",
            "masks/10261_00002_mask.png\n",
            "masks/8918_00007_mask.png\n",
            "masks/12909_00003_mask.png\n",
            "masks/10260_00022_mask.png\n",
            "masks/12929_00017_mask.png\n",
            "masks/10291_00012_mask.png\n",
            "masks/10295_00012_mask.png\n",
            "masks/9023_00012_mask.png\n",
            "masks/12626_00016_mask.png\n"
          ]
        }
      ],
      "source": [
        "!tar --gunzip --extract --verbose --file=/content/epi.tgz"
      ]
    },
    {
      "cell_type": "code",
      "execution_count": null,
      "metadata": {
        "id": "sPeeVZeQDTyk"
      },
      "outputs": [],
      "source": []
    }
  ],
  "metadata": {
    "colab": {
      "provenance": [],
      "gpuType": "T4",
      "include_colab_link": true
    },
    "kernelspec": {
      "display_name": "Python 3",
      "name": "python3"
    },
    "accelerator": "GPU"
  },
  "nbformat": 4,
  "nbformat_minor": 0
}